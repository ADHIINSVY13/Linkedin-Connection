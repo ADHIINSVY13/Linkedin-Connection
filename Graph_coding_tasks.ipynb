{
 "cells": [
  {
   "cell_type": "markdown",
   "id": "0220066d",
   "metadata": {},
   "source": [
    "Graph and Tree Algorithms Notebook\n",
    "# Adjacency List Representation Example\n",
    "adj_list = {\n",
    "    'A': ['B', 'C'],\n",
    "    'B': ['A', 'D'],\n",
    "    'C': ['A', 'D'],\n",
    "    'D': ['B', 'C']\n",
    "}\n",
    "\n",
    "# Adjacency Matrix Representation Example (same graph as above)\n",
    "adj_matrix = [\n",
    "    [0, 1, 1, 0],  # A\n",
    "    [1, 0, 0, 1],  # B\n",
    "    [1, 0, 0, 1],  # C\n",
    "    [0, 1, 1, 0]   # D\n",
    "]\n",
    "# Vertex order: A, B, C, D\n",
    "\n",
    "# Edge List Representation Example (same graph as above)\n",
    "edge_list = [('A', 'B'), ('A', 'C'), ('B', 'D'), ('C', 'D')]"
   ]
  },
  {
   "cell_type": "code",
   "execution_count": 6,
   "id": "a68d5efd",
   "metadata": {},
   "outputs": [],
   "source": [
    "# Example Friendships in a Social Network\n",
    "adj_list= {\n",
    "    1: [2, 3],    # Person 1 is friends with 2 and 3\n",
    "    2: [1, 4],    # Person 2 is friends with 1 and 4\n",
    "    3: [1, 4, 5], # Person 3 is friends with 1, 4, 5\n",
    "    4: [2, 3],    # Person 4 is friends with 2 and 3\n",
    "    5: [3],       # Person 5 is only friends with 3 (loner)\n",
    "    6: []         # Person 6 has no friends (sad)\n",
    "}"
   ]
  },
  {
   "cell_type": "markdown",
   "id": "ca32eab7",
   "metadata": {},
   "source": [
    "1. Degree of Each Vertex"
   ]
  },
  {
   "cell_type": "code",
   "execution_count": 7,
   "id": "1e0c639c",
   "metadata": {},
   "outputs": [
    {
     "name": "stdout",
     "output_type": "stream",
     "text": [
      "Degrees: {6: 0, 5: 1, 1: 2, 2: 2, 4: 2, 3: 3}\n"
     ]
    }
   ],
   "source": [
    "def vertex_degrees(adj_list):\n",
    "    degrees = {node: len(neighbors) for node, neighbors in adj_list.items()}\n",
    "    return dict(sorted(degrees.items(), key=lambda x: x[1]))\n",
    "\n",
    "print(\"Degrees:\", vertex_degrees(adj_list))"
   ]
  },
  {
   "cell_type": "markdown",
   "id": "77afcf83",
   "metadata": {},
   "source": [
    "2. Graph Representation Conversions"
   ]
  },
  {
   "cell_type": "code",
   "execution_count": 11,
   "id": "8d2a411f",
   "metadata": {},
   "outputs": [
    {
     "name": "stdout",
     "output_type": "stream",
     "text": [
      "Adjacency list to matrix:\n",
      "[0, 1, 1, 0, 0, 0]\n",
      "[1, 0, 0, 1, 0, 0]\n",
      "[1, 0, 0, 1, 1, 0]\n",
      "[0, 1, 1, 0, 0, 0]\n",
      "[0, 0, 1, 0, 0, 0]\n",
      "[0, 0, 0, 0, 0, 0]\n",
      "\n",
      "Adjacency matrix to list:\n",
      "{'1': ['2', '3'], '2': ['1', '4'], '3': ['1', '4', '5'], '4': ['2', '3'], '5': ['3'], '6': []}\n",
      "\n",
      "Edge list to adjacency list:\n",
      "{1: [2, 3], 2: [1, 4], 3: [1, 4, 5], 4: [2, 3], 5: [3]}\n"
     ]
    }
   ],
   "source": [
    "\n",
    "def adj_list_to_matrix(adj_list):\n",
    "    vertices = sorted(adj_list.keys())\n",
    "    size = len(vertices)\n",
    "    matrix = [[0]*size for _ in range(size)]\n",
    "\n",
    "    # Create vertex to index mapping\n",
    "    v_to_index = {v: i for i, v in enumerate(vertices)}\n",
    "\n",
    "    for i, v in enumerate(vertices):\n",
    "        for neighbor in adj_list[v]:\n",
    "            j = v_to_index[neighbor]\n",
    "            matrix[i][j] = 1\n",
    "\n",
    "    return matrix\n",
    "\n",
    "def adj_matrix_to_list(adj_matrix, vertex_names=None):\n",
    "    size = len(adj_matrix)\n",
    "    if vertex_names is None:\n",
    "        vertex_names = [str(i) for i in range(size)]\n",
    "\n",
    "    adj_list = {}\n",
    "    for i in range(size):\n",
    "        neighbors = []\n",
    "        for j in range(size):\n",
    "            if adj_matrix[i][j] == 1:\n",
    "                neighbors.append(vertex_names[j])\n",
    "        adj_list[vertex_names[i]] = neighbors\n",
    "\n",
    "    return adj_list\n",
    "\n",
    "def edge_list_to_adj_list(edge_list):\n",
    "    adj_list = {}\n",
    "\n",
    "    for u, v in edge_list:\n",
    "        if u not in adj_list:\n",
    "            adj_list[u] = []\n",
    "        if v not in adj_list:\n",
    "            adj_list[v] = []\n",
    "\n",
    "        adj_list[u].append(v)\n",
    "        adj_list[v].append(u)\n",
    "\n",
    "    return adj_list\n",
    "\n",
    "# Generate matrix from adjacency list\n",
    "adj_matrix = adj_list_to_matrix(adj_list)\n",
    "print(\"Adjacency list to matrix:\")\n",
    "for row in adj_matrix:\n",
    "    print(row)\n",
    "\n",
    "# Convert matrix back to adjacency list\n",
    "vertex_names = ['1', '2', '3', '4', '5', '6']\n",
    "print(\"\\nAdjacency matrix to list:\")\n",
    "print(adj_matrix_to_list(adj_matrix, vertex_names))\n",
    "\n",
    "# Example edge list \n",
    "edge_list = [(1, 2), (1, 3), (2, 4), (3, 4), (3, 5)]\n",
    "print(\"\\nEdge list to adjacency list:\")\n",
    "print(edge_list_to_adj_list(edge_list))\n"
   ]
  },
  {
   "cell_type": "markdown",
   "id": "8aa82643",
   "metadata": {},
   "source": [
    "3. Adjacency Check"
   ]
  },
  {
   "cell_type": "code",
   "execution_count": 13,
   "id": "3f5d1ed1",
   "metadata": {},
   "outputs": [
    {
     "name": "stdout",
     "output_type": "stream",
     "text": [
      "adj_list 1-2: True\n",
      "adj_list 1-4: False\n",
      "adj_matrix 3-5: True\n",
      "edge_list 3-5: True\n"
     ]
    }
   ],
   "source": [
    "def are_adjacent(representation, u, v, rep_type='adj_list', vertex_names=None):\n",
    "    # For adjacency list\n",
    "    if rep_type == 'adj_list':\n",
    "        return v in representation.get(u, [])\n",
    "\n",
    "    # For adjacency matrix\n",
    "    elif rep_type == 'adj_matrix':\n",
    "        if vertex_names:\n",
    "            u_index = vertex_names.index(u)\n",
    "            v_index = vertex_names.index(v)\n",
    "        else:\n",
    "            u_index = u\n",
    "            v_index = v\n",
    "        return representation[u_index][v_index] == 1\n",
    "\n",
    "    # For edge list\n",
    "    elif rep_type == 'edge_list':\n",
    "        return (u, v) in representation or (v, u) in representation\n",
    "\n",
    "    # Invalid type\n",
    "    else:\n",
    "        raise ValueError(\"Invalid representation type\")\n",
    "\n",
    "\n",
    "# Example graphs\n",
    "adj_list = {\n",
    "    1: [2, 3],\n",
    "    2: [1, 4],\n",
    "    3: [1, 4, 5],\n",
    "    4: [2, 3],\n",
    "    5: [3],\n",
    "    6: []\n",
    "}\n",
    "\n",
    "adj_matrix = [\n",
    "    [0, 1, 1, 0, 0, 0],  # 1\n",
    "    [1, 0, 0, 1, 0, 0],  # 2\n",
    "    [1, 0, 0, 1, 1, 0],  # 3\n",
    "    [0, 1, 1, 0, 0, 0],  # 4\n",
    "    [0, 0, 1, 0, 0, 0],  # 5\n",
    "    [0, 0, 0, 0, 0, 0]   # 6\n",
    "]\n",
    "\n",
    "edge_list = [(1, 2), (1, 3), (2, 4), (3, 4), (3, 5)]\n",
    "\n",
    "# Testing all types\n",
    "print(\"adj_list 1-2:\", are_adjacent(adj_list, 1, 2, 'adj_list'))\n",
    "print(\"adj_list 1-4:\", are_adjacent(adj_list, 1, 4, 'adj_list'))\n",
    "\n",
    "print(\"adj_matrix 3-5:\", are_adjacent(adj_matrix, 2, 4, 'adj_matrix'))  # 3 is index 2, 5 is index 4\n",
    "\n",
    "print(\"edge_list 3-5:\", are_adjacent(edge_list, 3, 5, 'edge_list'))\n"
   ]
  },
  {
   "cell_type": "markdown",
   "id": "75f4c615",
   "metadata": {},
   "source": [
    "4. Complete Graph Check"
   ]
  },
  {
   "cell_type": "code",
   "execution_count": 15,
   "id": "02228add",
   "metadata": {},
   "outputs": [
    {
     "name": "stdout",
     "output_type": "stream",
     "text": [
      "Is sample graph complete? False\n",
      "Is complete graph actually complete? True\n"
     ]
    }
   ],
   "source": [
    "def is_complete(representation, rep_type='adj_list'):\n",
    "    if rep_type == 'adj_list':\n",
    "        n = len(representation)\n",
    "        for vertex in representation:\n",
    "            # Check if each vertex is connected to all others (n-1 edges)\n",
    "            if len(representation[vertex]) != n - 1:\n",
    "                return False\n",
    "            # Also check that no vertex is connected to itself\n",
    "            if vertex in representation[vertex]:\n",
    "                return False\n",
    "        return True\n",
    "    \n",
    "    elif rep_type == 'adj_matrix':\n",
    "        n = len(representation)\n",
    "        for i in range(n):\n",
    "            for j in range(n):\n",
    "                if i == j:\n",
    "                    if representation[i][j] != 0:\n",
    "                        return False\n",
    "                else:\n",
    "                    if representation[i][j] != 1:\n",
    "                        return False\n",
    "        return True\n",
    "    \n",
    "    elif rep_type == 'edge_list':\n",
    "        vertices = set()\n",
    "        for u, v in representation:\n",
    "            vertices.add(u)\n",
    "            vertices.add(v)\n",
    "        n = len(vertices)\n",
    "        # In complete graph, number of edges should be n(n-1)/2\n",
    "        return len(representation) == n * (n - 1) / 2\n",
    "    \n",
    "    else:\n",
    "        raise ValueError(\"Invalid representation type\")\n",
    "\n",
    "# Example usage\n",
    "complete_graph = {\n",
    "    'A': ['B', 'C'],\n",
    "    'B': ['A', 'C'],\n",
    "    'C': ['A', 'B']\n",
    "}\n",
    "print(\"Is sample graph complete?\", is_complete(adj_list))\n",
    "print(\"Is complete graph actually complete?\", is_complete(complete_graph))"
   ]
  },
  {
   "cell_type": "markdown",
   "id": "5be72d25",
   "metadata": {},
   "source": [
    "5. Connected Graph Check"
   ]
  },
  {
   "cell_type": "code",
   "execution_count": 19,
   "id": "b53a65e0",
   "metadata": {},
   "outputs": [
    {
     "name": "stdout",
     "output_type": "stream",
     "text": [
      "Is sample graph connected? False\n",
      "Is disconnected graph connected? False\n"
     ]
    }
   ],
   "source": [
    "def is_connected(representation, rep_type='adj_list'):\n",
    "    if rep_type == 'edge_list':\n",
    "        representation = edge_list_to_adj_list(representation)\n",
    "        rep_type = 'adj_list'\n",
    "    \n",
    "    if rep_type == 'adj_matrix':\n",
    "        representation = adj_matrix_to_list(representation)\n",
    "        rep_type = 'adj_list'\n",
    "    \n",
    "    if not representation:  # empty graph\n",
    "        return False\n",
    "    \n",
    "    visited = set()\n",
    "    stack = [next(iter(representation.keys()))]  # start with first vertex\n",
    "    \n",
    "    while stack:\n",
    "        vertex = stack.pop()\n",
    "        if vertex not in visited:\n",
    "            visited.add(vertex)\n",
    "            stack.extend(representation[vertex])\n",
    "    \n",
    "    return len(visited) == len(representation)\n",
    "\n",
    "# Example usage\n",
    "print(\"Is sample graph connected?\", is_connected(adj_list))\n",
    "disconnected_graph = {\n",
    "    'A': ['B'],\n",
    "    'B': ['A'],\n",
    "    'C': ['D'],\n",
    "    'D': ['C']\n",
    "}\n",
    "print(\"Is disconnected graph connected?\", is_connected(disconnected_graph))"
   ]
  },
  {
   "cell_type": "markdown",
   "id": "2a23f4ff",
   "metadata": {},
   "source": [
    " 6. Walk, Trail, Path Identification"
   ]
  },
  {
   "cell_type": "code",
   "execution_count": 20,
   "id": "4f90c5b3",
   "metadata": {},
   "outputs": [
    {
     "name": "stdout",
     "output_type": "stream",
     "text": [
      "A-B-D-C:  None - not a walk\n",
      "A-B-D-C-A:  None - not a walk\n",
      "A-B-D-C-A-B:  None - not a walk\n",
      "A-B-C:  None - not a walk\n"
     ]
    }
   ],
   "source": [
    "def classify_sequence(graph, sequence):\n",
    "   \n",
    "    if len(sequence) < 2:\n",
    "        return \"None - sequence too short\"\n",
    "    \n",
    "    # First check if consecutive vertices are adjacent (is it a walk?)\n",
    "    edges_used = set()\n",
    "    vertices_visited = []\n",
    "    is_walk = True\n",
    "    is_trail = True\n",
    "    is_path = True\n",
    "    \n",
    "    for i in range(len(sequence) - 1):\n",
    "        u = sequence[i]\n",
    "        v = sequence[i+1]\n",
    "        \n",
    "        # Check if edge exists\n",
    "        if v not in graph.get(u, []):\n",
    "            is_walk = False\n",
    "            break\n",
    "        \n",
    "        # Check for edge reuse (for trail)\n",
    "        edge = tuple(sorted((u, v)))\n",
    "        if edge in edges_used:\n",
    "            is_trail = False\n",
    "        edges_used.add(edge)\n",
    "        \n",
    "        # Check for vertex reuse (for path)\n",
    "        if u in vertices_visited:\n",
    "            is_path = False\n",
    "        vertices_visited.append(u)\n",
    "    \n",
    "    # Check last vertex for path\n",
    "    if sequence[-1] in vertices_visited:\n",
    "        is_path = False\n",
    "    \n",
    "    if not is_walk:\n",
    "        return \"None - not a walk\"\n",
    "    elif is_path:\n",
    "        return \"Path\"\n",
    "    elif is_trail:\n",
    "        return \"Trail\"\n",
    "    else:\n",
    "        return \"Walk\"\n",
    "\n",
    "# Example usage\n",
    "print(\"A-B-D-C: \", classify_sequence(adj_list, ['A', 'B', 'D', 'C']))\n",
    "print(\"A-B-D-C-A: \", classify_sequence(adj_list, ['A', 'B', 'D', 'C', 'A']))\n",
    "print(\"A-B-D-C-A-B: \", classify_sequence(adj_list, ['A', 'B', 'D', 'C', 'A', 'B']))\n",
    "print(\"A-B-C: \", classify_sequence(adj_list, ['A', 'B', 'C']))"
   ]
  },
  {
   "cell_type": "markdown",
   "id": "02917824",
   "metadata": {},
   "source": [
    "7. Tree Check"
   ]
  },
  {
   "cell_type": "code",
   "execution_count": 21,
   "id": "dbe28965",
   "metadata": {},
   "outputs": [
    {
     "name": "stdout",
     "output_type": "stream",
     "text": [
      "Is sample graph a tree? False\n",
      "Is tree graph a tree? True\n"
     ]
    }
   ],
   "source": [
    "def is_tree(representation, rep_type='adj_list'):\n",
    "   \n",
    "    if not is_connected(representation, rep_type):\n",
    "        return False\n",
    "    \n",
    "    # Convert to adjacency list for easier processing\n",
    "    if rep_type == 'adj_matrix':\n",
    "        adj_list = adj_matrix_to_list(representation)\n",
    "    elif rep_type == 'edge_list':\n",
    "        adj_list = edge_list_to_adj_list(representation)\n",
    "    else:\n",
    "        adj_list = representation\n",
    "    \n",
    "    # Check if number of edges is exactly n-1 (tree property)\n",
    "    num_edges = sum(len(edges) for edges in adj_list.values()) // 2\n",
    "    if num_edges != len(adj_list) - 1:\n",
    "        return False\n",
    "    \n",
    "    return True\n",
    "\n",
    "# Example usage\n",
    "tree_graph = {\n",
    "    'A': ['B'],\n",
    "    'B': ['A', 'C'],\n",
    "    'C': ['B']\n",
    "}\n",
    "print(\"Is sample graph a tree?\", is_tree(adj_list))\n",
    "print(\"Is tree graph a tree?\", is_tree(tree_graph))"
   ]
  },
  {
   "cell_type": "markdown",
   "id": "22567eb9",
   "metadata": {},
   "source": [
    "8. Spanning Tree Finder"
   ]
  },
  {
   "cell_type": "code",
   "execution_count": 24,
   "id": "3904cd76",
   "metadata": {},
   "outputs": [
    {
     "name": "stdout",
     "output_type": "stream",
     "text": [
      "Spanning tree edges: [('A', 'B'), ('B', 'C'), ('C', 'D')]\n"
     ]
    }
   ],
   "source": [
    "def find_spanning_tree(representation, rep_type='adj_list'):\n",
    "    # Convert to adjacency list\n",
    "    if rep_type == 'adj_matrix':\n",
    "        adj_list = adj_matrix_to_list(representation)\n",
    "    elif rep_type == 'edge_list':\n",
    "        adj_list = edge_list_to_adj_list(representation)\n",
    "    else:\n",
    "        adj_list = representation\n",
    "    \n",
    "    if not adj_list:\n",
    "        return []\n",
    "    \n",
    "    visited = set()\n",
    "    spanning_edges = []\n",
    "    start_vertex = next(iter(adj_list.keys()))\n",
    "    \n",
    "    stack = [(start_vertex, None)]  # (current, parent)\n",
    "    \n",
    "    while stack:\n",
    "        vertex, parent = stack.pop()\n",
    "        if vertex not in visited:\n",
    "            visited.add(vertex)\n",
    "            if parent is not None:\n",
    "                spanning_edges.append((parent, vertex))\n",
    "            \n",
    "            # Push neighbors in reverse order to visit them in order\n",
    "            for neighbor in reversed(adj_list[vertex]):\n",
    "                if neighbor != parent:\n",
    "                    stack.append((neighbor, vertex))\n",
    "    \n",
    "    return spanning_edges\n",
    "\n",
    "# Example usage\n",
    "cyclic_graph = {\n",
    "    'A': ['B', 'C'],\n",
    "    'B': ['A', 'C'],\n",
    "    'C': ['A', 'B', 'D'],\n",
    "    'D': ['C']\n",
    "}\n",
    "print(\"Spanning tree edges:\", find_spanning_tree(cyclic_graph))"
   ]
  },
  {
   "cell_type": "markdown",
   "id": "4e01ba36",
   "metadata": {},
   "source": [
    "9. Leaf Node Counter"
   ]
  },
  {
   "cell_type": "code",
   "execution_count": 25,
   "id": "da93aed7",
   "metadata": {},
   "outputs": [
    {
     "name": "stdout",
     "output_type": "stream",
     "text": [
      "Leaf nodes in tree graph: 2\n",
      "Leaf nodes in cyclic graph: 1\n"
     ]
    }
   ],
   "source": [
    "def count_leaf_nodes(tree, rep_type='adj_list'):\n",
    "    if rep_type == 'adj_matrix':\n",
    "        degrees = [sum(row) for row in tree]\n",
    "        return sum(1 for d in degrees if d == 1)\n",
    "    elif rep_type == 'edge_list':\n",
    "        from collections import defaultdict\n",
    "        degree_count = defaultdict(int)\n",
    "        for u, v in tree:\n",
    "            degree_count[u] += 1\n",
    "            degree_count[v] += 1\n",
    "        return sum(1 for d in degree_count.values() if d == 1)\n",
    "    else:  # adj_list\n",
    "        return sum(1 for neighbors in tree.values() if len(neighbors) == 1)\n",
    "\n",
    "# Example usage\n",
    "print(\"Leaf nodes in tree graph:\", count_leaf_nodes(tree_graph))\n",
    "print(\"Leaf nodes in cyclic graph:\", count_leaf_nodes(cyclic_graph))"
   ]
  },
  {
   "cell_type": "markdown",
   "id": "82f43df1",
   "metadata": {},
   "source": [
    "10. Binary Tree Check"
   ]
  },
  {
   "cell_type": "code",
   "execution_count": 31,
   "id": "2f080a06",
   "metadata": {},
   "outputs": [
    {
     "name": "stdout",
     "output_type": "stream",
     "text": [
      "Is binary tree actually binary? True\n",
      "Is non-binary tree binary? True\n"
     ]
    }
   ],
   "source": [
    "# Function to check if the graph is a tree (no cycles and connected)\n",
    "def is_tree(tree, rep_type='adj_list'):\n",
    "    if rep_type == 'adj_list':\n",
    "        visited = set()\n",
    "        def dfs(node, parent):\n",
    "            visited.add(node)\n",
    "            for neighbor in tree.get(node, []):\n",
    "                if neighbor not in visited:\n",
    "                    if not dfs(neighbor, node):\n",
    "                        return False\n",
    "                elif neighbor != parent:\n",
    "                    return False\n",
    "            return True\n",
    "\n",
    "        # Start DFS from an arbitrary node (assuming tree is connected)\n",
    "        return dfs(next(iter(tree)), None) and len(visited) == len(tree)\n",
    "    \n",
    "    elif rep_type == 'adj_matrix':\n",
    "        # Similar DFS or BFS approach can be applied for adj_matrix representation\n",
    "        pass\n",
    "    \n",
    "    elif rep_type == 'edge_list':\n",
    "        # Convert edge_list to adj_list and apply DFS or BFS\n",
    "        adj_list = edge_list_to_adj_list(tree)\n",
    "        return is_tree(adj_list)\n",
    "    \n",
    "    return False\n",
    "\n",
    "\n",
    "# Function to check if the graph is a binary tree\n",
    "def is_binary_tree(tree, rep_type='adj_list'):\n",
    "    if not is_tree(tree, rep_type):\n",
    "        return False\n",
    "    \n",
    "    # Convert to adjacency list\n",
    "    if rep_type == 'adj_matrix':\n",
    "        adj_list = adj_matrix_to_list(tree)\n",
    "    elif rep_type == 'edge_list':\n",
    "        adj_list = edge_list_to_adj_list(tree)\n",
    "    else:\n",
    "        adj_list = tree\n",
    "    \n",
    "    for node in adj_list:\n",
    "        if len(adj_list[node]) > 3:  # In a binary tree, a node can have at most 2 children (including parent)\n",
    "            return False\n",
    "    \n",
    "    return True\n",
    "\n",
    "\n",
    "# Example usage\n",
    "adj_list = {\n",
    "    1: [2, 3],    # Person 1 is friends with 2 and 3\n",
    "    2: [1, 4],    # Person 2 is friends with 1 and 4\n",
    "    3: [1, 4, 5], # Person 3 is friends with 1, 4, 5\n",
    "    4: [2, 3],    # Person 4 is friends with 2 and 3\n",
    "    5: [3],       # Person 5 is only friends with 3 (loner)\n",
    "    6: []         # Person 6 has no friends (sad)\n",
    "}\n",
    "\n",
    "binary_tree = {\n",
    "    1: [2, 3],\n",
    "    2: [1, 4, 5],\n",
    "    3: [1],\n",
    "    4: [2],\n",
    "    5: [2]\n",
    "}\n",
    "\n",
    "non_binary_tree = {\n",
    "    1: [2, 3, 4],\n",
    "    2: [1],\n",
    "    3: [1],\n",
    "    4: [1]\n",
    "}\n",
    "\n",
    "print(\"Is binary tree actually binary?\", is_binary_tree(binary_tree))\n",
    "print(\"Is non-binary tree binary?\", is_binary_tree(non_binary_tree))\n"
   ]
  },
  {
   "cell_type": "markdown",
   "id": "c4ddf244",
   "metadata": {},
   "source": [
    "11. Tree Height Finder"
   ]
  },
  {
   "cell_type": "code",
   "execution_count": 32,
   "id": "112fa4b9",
   "metadata": {},
   "outputs": [
    {
     "name": "stdout",
     "output_type": "stream",
     "text": [
      "Height of binary tree: 2\n",
      "Height of tree graph: 2\n"
     ]
    }
   ],
   "source": [
    "def tree_height(tree, rep_type='adj_list'):\n",
    "    # Convert to adjacency list\n",
    "    if rep_type == 'adj_matrix':\n",
    "        adj_list = adj_matrix_to_list(tree)\n",
    "    elif rep_type == 'edge_list':\n",
    "        adj_list = edge_list_to_adj_list(tree)\n",
    "    else:\n",
    "        adj_list = tree\n",
    "    \n",
    "    if not adj_list:\n",
    "        return -1\n",
    "    \n",
    "    def dfs(node, parent):\n",
    "        max_height = 0\n",
    "        for neighbor in adj_list[node]:\n",
    "            if neighbor != parent:\n",
    "                current_height = dfs(neighbor, node)\n",
    "                if current_height > max_height:\n",
    "                    max_height = current_height\n",
    "        return max_height + 1\n",
    "    \n",
    "    # For trees, we can start from any node, but let's use the first one\n",
    "    root = next(iter(adj_list.keys()))\n",
    "    return dfs(root, None) - 1  # subtract 1 because we count edges\n",
    "\n",
    "# Example usage\n",
    "print(\"Height of binary tree:\", tree_height(binary_tree))\n",
    "print(\"Height of tree graph:\", tree_height(tree_graph))"
   ]
  },
  {
   "cell_type": "markdown",
   "id": "f3a72538",
   "metadata": {},
   "source": [
    "12. Tree Depth Finder"
   ]
  },
  {
   "cell_type": "code",
   "execution_count": 36,
   "id": "f7b7beb9",
   "metadata": {},
   "outputs": [
    {
     "name": "stdout",
     "output_type": "stream",
     "text": [
      "Node depths in binary tree: {1: 0, 3: 1, 2: 1, 5: 2, 4: 2}\n"
     ]
    }
   ],
   "source": [
    "def node_depths(tree, rep_type='adj_list'):\n",
    "    # Convert to adjacency list if necessary\n",
    "    if rep_type == 'adj_matrix':\n",
    "        adj_list = adj_matrix_to_list(tree)\n",
    "    elif rep_type == 'edge_list':\n",
    "        adj_list = edge_list_to_adj_list(tree)\n",
    "    else:\n",
    "        adj_list = tree\n",
    "    \n",
    "    # Return an empty dictionary if tree is empty\n",
    "    if not adj_list:\n",
    "        return {}\n",
    "    \n",
    "    depths = {}\n",
    "    root = next(iter(adj_list.keys()))  # Get an arbitrary root node\n",
    "    stack = [(root, None, 0)]  # (node, parent, depth)\n",
    "    \n",
    "    while stack:\n",
    "        node, parent, depth = stack.pop()\n",
    "        depths[node] = depth\n",
    "        # Traverse each neighbor of the node\n",
    "        for neighbor in adj_list[node]:\n",
    "            if neighbor != parent:  # Avoid revisiting the parent node\n",
    "                stack.append((neighbor, node, depth + 1))\n",
    "    \n",
    "    return depths\n",
    "\n",
    "# Output the node depths in the binary tree\n",
    "print(\"Node depths in binary tree:\", node_depths(binary_tree))\n"
   ]
  }
 ],
 "metadata": {
  "kernelspec": {
   "display_name": "Python 3",
   "language": "python",
   "name": "python3"
  },
  "language_info": {
   "codemirror_mode": {
    "name": "ipython",
    "version": 3
   },
   "file_extension": ".py",
   "mimetype": "text/x-python",
   "name": "python",
   "nbconvert_exporter": "python",
   "pygments_lexer": "ipython3",
   "version": "3.13.3"
  }
 },
 "nbformat": 4,
 "nbformat_minor": 5
}
