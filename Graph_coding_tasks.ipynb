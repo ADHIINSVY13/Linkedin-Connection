{
 "cells": [
  {
   "cell_type": "markdown",
   "id": "0220066d",
   "metadata": {},
   "source": [
    "Graph and Tree Algorithms Notebook\n",
    "# Adjacency List Representation Example\n",
    "adj_list = {\n",
    "    'A': ['B', 'C'],\n",
    "    'B': ['A', 'D'],\n",
    "    'C': ['A', 'D'],\n",
    "    'D': ['B', 'C']\n",
    "}\n",
    "\n",
    "# Adjacency Matrix Representation Example (same graph as above)\n",
    "adj_matrix = [\n",
    "    [0, 1, 1, 0],  # A\n",
    "    [1, 0, 0, 1],  # B\n",
    "    [1, 0, 0, 1],  # C\n",
    "    [0, 1, 1, 0]   # D\n",
    "]\n",
    "# Vertex order: A, B, C, D\n",
    "\n",
    "# Edge List Representation Example (same graph as above)\n",
    "edge_list = [('A', 'B'), ('A', 'C'), ('B', 'D'), ('C', 'D')]"
   ]
  },
  {
   "cell_type": "markdown",
   "id": "ca32eab7",
   "metadata": {},
   "source": [
    "1. Degree of Each Vertex"
   ]
  },
  {
   "cell_type": "code",
   "execution_count": 4,
   "id": "1e0c639c",
   "metadata": {},
   "outputs": [
    {
     "name": "stdout",
     "output_type": "stream",
     "text": [
      "Degrees from adjacency list: {'A': 2, 'B': 2, 'C': 2, 'D': 2}\n",
      "Degrees from adjacency matrix: {0: 2, 1: 2, 2: 2, 3: 2}\n",
      "Degrees from edge list: {'C': 2, 'B': 2, 'A': 2, 'D': 2}\n"
     ]
    }
   ],
   "source": [
    "def calculate_degrees(representation, rep_type='adj_list'):\n",
    "    \"\"\"\n",
    "    Calculate the degree of each vertex in a graph.\n",
    "    \n",
    "    Parameters:\n",
    "    - representation: Graph representation (adjacency list, matrix, or edge list)\n",
    "    - rep_type: Type of representation ('adj_list', 'adj_matrix', or 'edge_list')\n",
    "    \n",
    "    Returns:\n",
    "    - Dictionary with vertices as keys and degrees as values, sorted by degree\n",
    "    \"\"\"\n",
    "    degrees = {}\n",
    "    \n",
    "    if rep_type == 'adj_list':\n",
    "        for vertex in representation:\n",
    "            degrees[vertex] = len(representation[vertex])\n",
    "    \n",
    "    elif rep_type == 'adj_matrix':\n",
    "        for i in range(len(representation)):\n",
    "            degrees[i] = sum(representation[i])\n",
    "    \n",
    "    elif rep_type == 'edge_list':\n",
    "        # First collect all unique vertices\n",
    "        vertices = set()\n",
    "        for edge in representation:\n",
    "            vertices.add(edge[0])\n",
    "            vertices.add(edge[1])\n",
    "        \n",
    "        # Initialize degrees\n",
    "        for v in vertices:\n",
    "            degrees[v] = 0\n",
    "            \n",
    "        # Count edges for each vertex\n",
    "        for edge in representation:\n",
    "            degrees[edge[0]] += 1\n",
    "            degrees[edge[1]] += 1\n",
    "    \n",
    "    else:\n",
    "        raise ValueError(\"Invalid representation type. Use 'adj_list', 'adj_matrix', or 'edge_list'\")\n",
    "    \n",
    "    # Sort the dictionary by degree values\n",
    "    sorted_degrees = dict(sorted(degrees.items(), key=lambda item: item[1]))\n",
    "    return sorted_degrees\n",
    "\n",
    "# Example usage\n",
    "print(\"Degrees from adjacency list:\", calculate_degrees(adj_list))\n",
    "print(\"Degrees from adjacency matrix:\", calculate_degrees(adj_matrix, 'adj_matrix'))\n",
    "print(\"Degrees from edge list:\", calculate_degrees(edge_list, 'edge_list'))"
   ]
  },
  {
   "cell_type": "markdown",
   "id": "77afcf83",
   "metadata": {},
   "source": [
    "2. Graph Representation Conversions"
   ]
  },
  {
   "cell_type": "code",
   "execution_count": 5,
   "id": "b21dd5a4",
   "metadata": {},
   "outputs": [
    {
     "name": "stdout",
     "output_type": "stream",
     "text": [
      "Adjacency list to matrix: [[0, 1, 1, 0], [1, 0, 0, 1], [1, 0, 0, 1], [0, 1, 1, 0]]\n",
      "Adjacency matrix to list: {'A': ['B', 'C'], 'B': ['A', 'D'], 'C': ['A', 'D'], 'D': ['B', 'C']}\n",
      "Edge list to adjacency list: {'A': ['B', 'C'], 'B': ['A', 'D'], 'C': ['A', 'D'], 'D': ['B', 'C']}\n"
     ]
    }
   ],
   "source": [
    "def adj_list_to_matrix(adj_list):\n",
    "    \"\"\"\n",
    "    Convert adjacency list to adjacency matrix.\n",
    "    \n",
    "    Parameters:\n",
    "    - adj_list: Graph as adjacency list\n",
    "    \n",
    "    Returns:\n",
    "    - Adjacency matrix representation\n",
    "    \"\"\"\n",
    "    vertices = sorted(adj_list.keys())\n",
    "    size = len(vertices)\n",
    "    matrix = [[0]*size for _ in range(size)]\n",
    "    \n",
    "    # Create vertex to index mapping\n",
    "    v_to_index = {v: i for i, v in enumerate(vertices)}\n",
    "    \n",
    "    for i, v in enumerate(vertices):\n",
    "        for neighbor in adj_list[v]:\n",
    "            j = v_to_index[neighbor]\n",
    "            matrix[i][j] = 1\n",
    "    \n",
    "    return matrix\n",
    "\n",
    "def adj_matrix_to_list(adj_matrix, vertex_names=None):\n",
    "    \"\"\"\n",
    "    Convert adjacency matrix to adjacency list.\n",
    "    \n",
    "    Parameters:\n",
    "    - adj_matrix: Graph as adjacency matrix\n",
    "    - vertex_names: Optional list of vertex names\n",
    "    \n",
    "    Returns:\n",
    "    - Adjacency list representation\n",
    "    \"\"\"\n",
    "    size = len(adj_matrix)\n",
    "    if vertex_names is None:\n",
    "        vertex_names = [str(i) for i in range(size)]\n",
    "    \n",
    "    adj_list = {}\n",
    "    for i in range(size):\n",
    "        neighbors = []\n",
    "        for j in range(size):\n",
    "            if adj_matrix[i][j] == 1:\n",
    "                neighbors.append(vertex_names[j])\n",
    "        adj_list[vertex_names[i]] = neighbors\n",
    "    \n",
    "    return adj_list\n",
    "\n",
    "def edge_list_to_adj_list(edge_list):\n",
    "    \"\"\"\n",
    "    Convert edge list to adjacency list.\n",
    "    \n",
    "    Parameters:\n",
    "    - edge_list: Graph as edge list\n",
    "    \n",
    "    Returns:\n",
    "    - Adjacency list representation\n",
    "    \"\"\"\n",
    "    adj_list = {}\n",
    "    \n",
    "    for u, v in edge_list:\n",
    "        if u not in adj_list:\n",
    "            adj_list[u] = []\n",
    "        if v not in adj_list:\n",
    "            adj_list[v] = []\n",
    "        \n",
    "        adj_list[u].append(v)\n",
    "        adj_list[v].append(u)\n",
    "    \n",
    "    return adj_list\n",
    "\n",
    "# Example conversions\n",
    "print(\"Adjacency list to matrix:\", adj_list_to_matrix(adj_list))\n",
    "print(\"Adjacency matrix to list:\", adj_matrix_to_list(adj_matrix, ['A', 'B', 'C', 'D']))\n",
    "print(\"Edge list to adjacency list:\", edge_list_to_adj_list(edge_list))"
   ]
  },
  {
   "cell_type": "markdown",
   "id": "8aa82643",
   "metadata": {},
   "source": [
    "3. Adjacency Check"
   ]
  },
  {
   "cell_type": "code",
   "execution_count": 7,
   "id": "3f5d1ed1",
   "metadata": {},
   "outputs": [
    {
     "name": "stdout",
     "output_type": "stream",
     "text": [
      "Are A and B adjacent? True\n",
      "Are A and D adjacent? False\n"
     ]
    }
   ],
   "source": [
    "def are_adjacent(representation, u, v, rep_type='adj_list'):\n",
    "    \"\"\"\n",
    "    Check if two vertices are adjacent in a graph.\n",
    "    \n",
    "    Parameters:\n",
    "    - representation: Graph representation\n",
    "    - u, v: Vertices to check\n",
    "    - rep_type: Type of representation\n",
    "    \n",
    "    Returns:\n",
    "    - True if adjacent, False otherwise\n",
    "    \"\"\"\n",
    "    if rep_type == 'adj_list':\n",
    "        return v in representation.get(u, [])\n",
    "    \n",
    "    elif rep_type == 'adj_matrix':\n",
    "        vertices = sorted(representation.keys()) if isinstance(representation, dict) else range(len(representation))\n",
    "        if isinstance(u, str) or isinstance(v, str):\n",
    "            # If vertices are strings, we need to find their indices\n",
    "            if not isinstance(representation, dict):\n",
    "                raise ValueError(\"For string vertex names, provide a dictionary with vertex order\")\n",
    "            u_index = list(representation.keys()).index(u)\n",
    "            v_index = list(representation.keys()).index(v)\n",
    "            return representation[u_index][v_index] == 1\n",
    "        else:\n",
    "            return representation[u][v] == 1\n",
    "    \n",
    "    elif rep_type == 'edge_list':\n",
    "        return (u, v) in representation or (v, u) in representation\n",
    "    \n",
    "    else:\n",
    "        raise ValueError(\"Invalid representation type\")\n",
    "\n",
    "# Example usage\n",
    "print(\"Are A and B adjacent?\", are_adjacent(adj_list, 'A', 'B'))\n",
    "print(\"Are A and D adjacent?\", are_adjacent(adj_list, 'A', 'D'))"
   ]
  },
  {
   "cell_type": "markdown",
   "id": "75f4c615",
   "metadata": {},
   "source": [
    "4. Complete Graph Check"
   ]
  },
  {
   "cell_type": "code",
   "execution_count": 8,
   "id": "02228add",
   "metadata": {},
   "outputs": [
    {
     "name": "stdout",
     "output_type": "stream",
     "text": [
      "Is sample graph complete? False\n",
      "Is complete graph actually complete? True\n"
     ]
    }
   ],
   "source": [
    "def is_complete(representation, rep_type='adj_list'):\n",
    "    \"\"\"\n",
    "    Check if a graph is complete (every pair of distinct vertices is connected).\n",
    "    \n",
    "    Parameters:\n",
    "    - representation: Graph representation\n",
    "    - rep_type: Type of representation\n",
    "    \n",
    "    Returns:\n",
    "    - True if complete, False otherwise\n",
    "    \"\"\"\n",
    "    if rep_type == 'adj_list':\n",
    "        n = len(representation)\n",
    "        for vertex in representation:\n",
    "            # Check if each vertex is connected to all others (n-1 edges)\n",
    "            if len(representation[vertex]) != n - 1:\n",
    "                return False\n",
    "            # Also check that no vertex is connected to itself\n",
    "            if vertex in representation[vertex]:\n",
    "                return False\n",
    "        return True\n",
    "    \n",
    "    elif rep_type == 'adj_matrix':\n",
    "        n = len(representation)\n",
    "        for i in range(n):\n",
    "            for j in range(n):\n",
    "                if i == j:\n",
    "                    if representation[i][j] != 0:\n",
    "                        return False\n",
    "                else:\n",
    "                    if representation[i][j] != 1:\n",
    "                        return False\n",
    "        return True\n",
    "    \n",
    "    elif rep_type == 'edge_list':\n",
    "        vertices = set()\n",
    "        for u, v in representation:\n",
    "            vertices.add(u)\n",
    "            vertices.add(v)\n",
    "        n = len(vertices)\n",
    "        # In complete graph, number of edges should be n(n-1)/2\n",
    "        return len(representation) == n * (n - 1) / 2\n",
    "    \n",
    "    else:\n",
    "        raise ValueError(\"Invalid representation type\")\n",
    "\n",
    "# Example usage\n",
    "complete_graph = {\n",
    "    'A': ['B', 'C'],\n",
    "    'B': ['A', 'C'],\n",
    "    'C': ['A', 'B']\n",
    "}\n",
    "print(\"Is sample graph complete?\", is_complete(adj_list))\n",
    "print(\"Is complete graph actually complete?\", is_complete(complete_graph))"
   ]
  },
  {
   "cell_type": "markdown",
   "id": "5be72d25",
   "metadata": {},
   "source": [
    "5. Connected Graph Check"
   ]
  },
  {
   "cell_type": "code",
   "execution_count": 9,
   "id": "b53a65e0",
   "metadata": {},
   "outputs": [
    {
     "name": "stdout",
     "output_type": "stream",
     "text": [
      "Is sample graph connected? True\n",
      "Is disconnected graph connected? False\n"
     ]
    }
   ],
   "source": [
    "def is_connected(representation, rep_type='adj_list'):\n",
    "    \"\"\"\n",
    "    Check if a graph is connected (there's a path between every pair of vertices).\n",
    "    \n",
    "    Parameters:\n",
    "    - representation: Graph representation\n",
    "    - rep_type: Type of representation\n",
    "    \n",
    "    Returns:\n",
    "    - True if connected, False otherwise\n",
    "    \"\"\"\n",
    "    if rep_type == 'edge_list':\n",
    "        representation = edge_list_to_adj_list(representation)\n",
    "        rep_type = 'adj_list'\n",
    "    \n",
    "    if rep_type == 'adj_matrix':\n",
    "        representation = adj_matrix_to_list(representation)\n",
    "        rep_type = 'adj_list'\n",
    "    \n",
    "    if not representation:  # empty graph\n",
    "        return False\n",
    "    \n",
    "    visited = set()\n",
    "    stack = [next(iter(representation.keys()))]  # start with first vertex\n",
    "    \n",
    "    while stack:\n",
    "        vertex = stack.pop()\n",
    "        if vertex not in visited:\n",
    "            visited.add(vertex)\n",
    "            stack.extend(representation[vertex])\n",
    "    \n",
    "    return len(visited) == len(representation)\n",
    "\n",
    "# Example usage\n",
    "print(\"Is sample graph connected?\", is_connected(adj_list))\n",
    "disconnected_graph = {\n",
    "    'A': ['B'],\n",
    "    'B': ['A'],\n",
    "    'C': ['D'],\n",
    "    'D': ['C']\n",
    "}\n",
    "print(\"Is disconnected graph connected?\", is_connected(disconnected_graph))"
   ]
  },
  {
   "cell_type": "markdown",
   "id": "2a23f4ff",
   "metadata": {},
   "source": [
    " 6. Walk, Trail, Path Identification"
   ]
  },
  {
   "cell_type": "code",
   "execution_count": 10,
   "id": "4f90c5b3",
   "metadata": {},
   "outputs": [
    {
     "name": "stdout",
     "output_type": "stream",
     "text": [
      "A-B-D-C:  Path\n",
      "A-B-D-C-A:  Trail\n",
      "A-B-D-C-A-B:  Walk\n",
      "A-B-C:  None - not a walk\n"
     ]
    }
   ],
   "source": [
    "def classify_sequence(graph, sequence):\n",
    "    \"\"\"\n",
    "    Classify a sequence of vertices as walk, trail, path, or none.\n",
    "    \n",
    "    Parameters:\n",
    "    - graph: Graph as adjacency list\n",
    "    - sequence: List of vertices\n",
    "    \n",
    "    Returns:\n",
    "    - String indicating the type of sequence\n",
    "    \"\"\"\n",
    "    if len(sequence) < 2:\n",
    "        return \"None - sequence too short\"\n",
    "    \n",
    "    # First check if consecutive vertices are adjacent (is it a walk?)\n",
    "    edges_used = set()\n",
    "    vertices_visited = []\n",
    "    is_walk = True\n",
    "    is_trail = True\n",
    "    is_path = True\n",
    "    \n",
    "    for i in range(len(sequence) - 1):\n",
    "        u = sequence[i]\n",
    "        v = sequence[i+1]\n",
    "        \n",
    "        # Check if edge exists\n",
    "        if v not in graph.get(u, []):\n",
    "            is_walk = False\n",
    "            break\n",
    "        \n",
    "        # Check for edge reuse (for trail)\n",
    "        edge = tuple(sorted((u, v)))\n",
    "        if edge in edges_used:\n",
    "            is_trail = False\n",
    "        edges_used.add(edge)\n",
    "        \n",
    "        # Check for vertex reuse (for path)\n",
    "        if u in vertices_visited:\n",
    "            is_path = False\n",
    "        vertices_visited.append(u)\n",
    "    \n",
    "    # Check last vertex for path\n",
    "    if sequence[-1] in vertices_visited:\n",
    "        is_path = False\n",
    "    \n",
    "    if not is_walk:\n",
    "        return \"None - not a walk\"\n",
    "    elif is_path:\n",
    "        return \"Path\"\n",
    "    elif is_trail:\n",
    "        return \"Trail\"\n",
    "    else:\n",
    "        return \"Walk\"\n",
    "\n",
    "# Example usage\n",
    "print(\"A-B-D-C: \", classify_sequence(adj_list, ['A', 'B', 'D', 'C']))\n",
    "print(\"A-B-D-C-A: \", classify_sequence(adj_list, ['A', 'B', 'D', 'C', 'A']))\n",
    "print(\"A-B-D-C-A-B: \", classify_sequence(adj_list, ['A', 'B', 'D', 'C', 'A', 'B']))\n",
    "print(\"A-B-C: \", classify_sequence(adj_list, ['A', 'B', 'C']))"
   ]
  },
  {
   "cell_type": "markdown",
   "id": "02917824",
   "metadata": {},
   "source": [
    "7. Tree Check"
   ]
  },
  {
   "cell_type": "code",
   "execution_count": 11,
   "id": "dbe28965",
   "metadata": {},
   "outputs": [
    {
     "name": "stdout",
     "output_type": "stream",
     "text": [
      "Is sample graph a tree? False\n",
      "Is tree graph a tree? True\n"
     ]
    }
   ],
   "source": [
    "def is_tree(representation, rep_type='adj_list'):\n",
    "    \"\"\"\n",
    "    Check if a graph is a tree (connected and acyclic).\n",
    "    \n",
    "    Parameters:\n",
    "    - representation: Graph representation\n",
    "    - rep_type: Type of representation\n",
    "    \n",
    "    Returns:\n",
    "    - True if tree, False otherwise\n",
    "    \"\"\"\n",
    "    if not is_connected(representation, rep_type):\n",
    "        return False\n",
    "    \n",
    "    # Convert to adjacency list for easier processing\n",
    "    if rep_type == 'adj_matrix':\n",
    "        adj_list = adj_matrix_to_list(representation)\n",
    "    elif rep_type == 'edge_list':\n",
    "        adj_list = edge_list_to_adj_list(representation)\n",
    "    else:\n",
    "        adj_list = representation\n",
    "    \n",
    "    # Check if number of edges is exactly n-1 (tree property)\n",
    "    num_edges = sum(len(edges) for edges in adj_list.values()) // 2\n",
    "    if num_edges != len(adj_list) - 1:\n",
    "        return False\n",
    "    \n",
    "    return True\n",
    "\n",
    "# Example usage\n",
    "tree_graph = {\n",
    "    'A': ['B'],\n",
    "    'B': ['A', 'C'],\n",
    "    'C': ['B']\n",
    "}\n",
    "print(\"Is sample graph a tree?\", is_tree(adj_list))\n",
    "print(\"Is tree graph a tree?\", is_tree(tree_graph))"
   ]
  },
  {
   "cell_type": "markdown",
   "id": "22567eb9",
   "metadata": {},
   "source": [
    "8. Spanning Tree Finder"
   ]
  },
  {
   "cell_type": "code",
   "execution_count": 12,
   "id": "3904cd76",
   "metadata": {},
   "outputs": [
    {
     "name": "stdout",
     "output_type": "stream",
     "text": [
      "Spanning tree edges: [('A', 'B'), ('B', 'C'), ('C', 'D')]\n"
     ]
    }
   ],
   "source": [
    "def find_spanning_tree(representation, rep_type='adj_list'):\n",
    "    \"\"\"\n",
    "    Find a spanning tree of a connected graph using DFS.\n",
    "    \n",
    "    Parameters:\n",
    "    - representation: Graph representation\n",
    "    - rep_type: Type of representation\n",
    "    \n",
    "    Returns:\n",
    "    - Edge list representing the spanning tree\n",
    "    \"\"\"\n",
    "    # Convert to adjacency list\n",
    "    if rep_type == 'adj_matrix':\n",
    "        adj_list = adj_matrix_to_list(representation)\n",
    "    elif rep_type == 'edge_list':\n",
    "        adj_list = edge_list_to_adj_list(representation)\n",
    "    else:\n",
    "        adj_list = representation\n",
    "    \n",
    "    if not adj_list:\n",
    "        return []\n",
    "    \n",
    "    visited = set()\n",
    "    spanning_edges = []\n",
    "    start_vertex = next(iter(adj_list.keys()))\n",
    "    \n",
    "    stack = [(start_vertex, None)]  # (current, parent)\n",
    "    \n",
    "    while stack:\n",
    "        vertex, parent = stack.pop()\n",
    "        if vertex not in visited:\n",
    "            visited.add(vertex)\n",
    "            if parent is not None:\n",
    "                spanning_edges.append((parent, vertex))\n",
    "            \n",
    "            # Push neighbors in reverse order to visit them in order\n",
    "            for neighbor in reversed(adj_list[vertex]):\n",
    "                if neighbor != parent:\n",
    "                    stack.append((neighbor, vertex))\n",
    "    \n",
    "    return spanning_edges\n",
    "\n",
    "# Example usage\n",
    "cyclic_graph = {\n",
    "    'A': ['B', 'C'],\n",
    "    'B': ['A', 'C'],\n",
    "    'C': ['A', 'B', 'D'],\n",
    "    'D': ['C']\n",
    "}\n",
    "print(\"Spanning tree edges:\", find_spanning_tree(cyclic_graph))"
   ]
  },
  {
   "cell_type": "markdown",
   "id": "4e01ba36",
   "metadata": {},
   "source": [
    "9. Leaf Node Counter"
   ]
  },
  {
   "cell_type": "code",
   "execution_count": 13,
   "id": "da93aed7",
   "metadata": {},
   "outputs": [
    {
     "name": "stdout",
     "output_type": "stream",
     "text": [
      "Leaf nodes in tree graph: 2\n",
      "Leaf nodes in cyclic graph: 1\n"
     ]
    }
   ],
   "source": [
    "def count_leaf_nodes(tree, rep_type='adj_list'):\n",
    "    \"\"\"\n",
    "    Count the number of leaf nodes in a tree (nodes with degree 1).\n",
    "    \n",
    "    Parameters:\n",
    "    - tree: Tree representation\n",
    "    - rep_type: Type of representation\n",
    "    \n",
    "    Returns:\n",
    "    - Number of leaf nodes\n",
    "    \"\"\"\n",
    "    if rep_type == 'adj_matrix':\n",
    "        degrees = [sum(row) for row in tree]\n",
    "        return sum(1 for d in degrees if d == 1)\n",
    "    elif rep_type == 'edge_list':\n",
    "        from collections import defaultdict\n",
    "        degree_count = defaultdict(int)\n",
    "        for u, v in tree:\n",
    "            degree_count[u] += 1\n",
    "            degree_count[v] += 1\n",
    "        return sum(1 for d in degree_count.values() if d == 1)\n",
    "    else:  # adj_list\n",
    "        return sum(1 for neighbors in tree.values() if len(neighbors) == 1)\n",
    "\n",
    "# Example usage\n",
    "print(\"Leaf nodes in tree graph:\", count_leaf_nodes(tree_graph))\n",
    "print(\"Leaf nodes in cyclic graph:\", count_leaf_nodes(cyclic_graph))"
   ]
  },
  {
   "cell_type": "markdown",
   "id": "82f43df1",
   "metadata": {},
   "source": [
    "10. Binary Tree Check"
   ]
  },
  {
   "cell_type": "code",
   "execution_count": 14,
   "id": "2f080a06",
   "metadata": {},
   "outputs": [
    {
     "name": "stdout",
     "output_type": "stream",
     "text": [
      "Is binary tree actually binary? True\n",
      "Is non-binary tree binary? True\n"
     ]
    }
   ],
   "source": [
    "def is_binary_tree(tree, rep_type='adj_list'):\n",
    "    \"\"\"\n",
    "    Check if a tree is a binary tree (each node has at most 2 children).\n",
    "    \n",
    "    Parameters:\n",
    "    - tree: Tree representation\n",
    "    - rep_type: Type of representation\n",
    "    \n",
    "    Returns:\n",
    "    - True if binary tree, False otherwise\n",
    "    \"\"\"\n",
    "    if not is_tree(tree, rep_type):\n",
    "        return False\n",
    "    \n",
    "    # Convert to adjacency list\n",
    "    if rep_type == 'adj_matrix':\n",
    "        adj_list = adj_matrix_to_list(tree)\n",
    "    elif rep_type == 'edge_list':\n",
    "        adj_list = edge_list_to_adj_list(tree)\n",
    "    else:\n",
    "        adj_list = tree\n",
    "    \n",
    "    for node in adj_list:\n",
    "        if len(adj_list[node]) > 3:  # Including parent\n",
    "            return False\n",
    "    \n",
    "    return True\n",
    "\n",
    "# Example usage\n",
    "binary_tree = {\n",
    "    'A': ['B', 'C'],\n",
    "    'B': ['A', 'D', 'E'],\n",
    "    'C': ['A'],\n",
    "    'D': ['B'],\n",
    "    'E': ['B']\n",
    "}\n",
    "non_binary_tree = {\n",
    "    'A': ['B', 'C', 'D'],\n",
    "    'B': ['A'],\n",
    "    'C': ['A'],\n",
    "    'D': ['A']\n",
    "}\n",
    "print(\"Is binary tree actually binary?\", is_binary_tree(binary_tree))\n",
    "print(\"Is non-binary tree binary?\", is_binary_tree(non_binary_tree))"
   ]
  },
  {
   "cell_type": "markdown",
   "id": "c4ddf244",
   "metadata": {},
   "source": [
    "11. Tree Height Finder"
   ]
  },
  {
   "cell_type": "code",
   "execution_count": 15,
   "id": "112fa4b9",
   "metadata": {},
   "outputs": [
    {
     "name": "stdout",
     "output_type": "stream",
     "text": [
      "Height of binary tree: 2\n",
      "Height of tree graph: 2\n"
     ]
    }
   ],
   "source": [
    "def tree_height(tree, rep_type='adj_list'):\n",
    "    \"\"\"\n",
    "    Find the height of a tree (longest path from root to leaf).\n",
    "    \n",
    "    Parameters:\n",
    "    - tree: Tree representation\n",
    "    - rep_type: Type of representation\n",
    "    \n",
    "    Returns:\n",
    "    - Height of the tree\n",
    "    \"\"\"\n",
    "    # Convert to adjacency list\n",
    "    if rep_type == 'adj_matrix':\n",
    "        adj_list = adj_matrix_to_list(tree)\n",
    "    elif rep_type == 'edge_list':\n",
    "        adj_list = edge_list_to_adj_list(tree)\n",
    "    else:\n",
    "        adj_list = tree\n",
    "    \n",
    "    if not adj_list:\n",
    "        return -1\n",
    "    \n",
    "    def dfs(node, parent):\n",
    "        max_height = 0\n",
    "        for neighbor in adj_list[node]:\n",
    "            if neighbor != parent:\n",
    "                current_height = dfs(neighbor, node)\n",
    "                if current_height > max_height:\n",
    "                    max_height = current_height\n",
    "        return max_height + 1\n",
    "    \n",
    "    # For trees, we can start from any node, but let's use the first one\n",
    "    root = next(iter(adj_list.keys()))\n",
    "    return dfs(root, None) - 1  # subtract 1 because we count edges\n",
    "\n",
    "# Example usage\n",
    "print(\"Height of binary tree:\", tree_height(binary_tree))\n",
    "print(\"Height of tree graph:\", tree_height(tree_graph))"
   ]
  },
  {
   "cell_type": "markdown",
   "id": "f3a72538",
   "metadata": {},
   "source": [
    "12. Tree Depth Finder"
   ]
  },
  {
   "cell_type": "code",
   "execution_count": 16,
   "id": "f7b7beb9",
   "metadata": {},
   "outputs": [
    {
     "name": "stdout",
     "output_type": "stream",
     "text": [
      "Node depths in binary tree: {'A': 0, 'C': 1, 'B': 1, 'E': 2, 'D': 2}\n"
     ]
    }
   ],
   "source": [
    "def node_depths(tree, rep_type='adj_list'):\n",
    "    \"\"\"\n",
    "    Find the depth of each node in a tree (distance from root).\n",
    "    \n",
    "    Parameters:\n",
    "    - tree: Tree representation\n",
    "    - rep_type: Type of representation\n",
    "    \n",
    "    Returns:\n",
    "    - Dictionary with nodes as keys and depths as values\n",
    "    \"\"\"\n",
    "    # Convert to adjacency list\n",
    "    if rep_type == 'adj_matrix':\n",
    "        adj_list = adj_matrix_to_list(tree)\n",
    "    elif rep_type == 'edge_list':\n",
    "        adj_list = edge_list_to_adj_list(tree)\n",
    "    else:\n",
    "        adj_list = tree\n",
    "    \n",
    "    if not adj_list:\n",
    "        return {}\n",
    "    \n",
    "    depths = {}\n",
    "    root = next(iter(adj_list.keys()))\n",
    "    stack = [(root, None, 0)]  # (node, parent, depth)\n",
    "    \n",
    "    while stack:\n",
    "        node, parent, depth = stack.pop()\n",
    "        depths[node] = depth\n",
    "        for neighbor in adj_list[node]:\n",
    "            if neighbor != parent:\n",
    "                stack.append((neighbor, node, depth + 1))\n",
    "    \n",
    "    return depths\n",
    "\n",
    "# Example usage\n",
    "print(\"Node depths in binary tree:\", node_depths(binary_tree))"
   ]
  }
 ],
 "metadata": {
  "kernelspec": {
   "display_name": "Python 3",
   "language": "python",
   "name": "python3"
  },
  "language_info": {
   "codemirror_mode": {
    "name": "ipython",
    "version": 3
   },
   "file_extension": ".py",
   "mimetype": "text/x-python",
   "name": "python",
   "nbconvert_exporter": "python",
   "pygments_lexer": "ipython3",
   "version": "3.12.5"
  }
 },
 "nbformat": 4,
 "nbformat_minor": 5
}
